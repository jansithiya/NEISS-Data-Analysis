{
 "cells": [
  {
   "cell_type": "markdown",
   "metadata": {},
   "source": [
    " # Analysis of NEISS Data \n",
    " \n",
    " <p>  This notebook provides detailed information, including the code, on analysis of NEISS data. "
   ]
  },
  {
   "cell_type": "code",
   "execution_count": 1,
   "metadata": {
    "collapsed": true
   },
   "outputs": [],
   "source": [
    "# import relevant packages \n",
    "import numpy as np\n",
    "import pandas as pd\n",
    "import matplotlib.pyplot as plt\n",
    "import matplotlib"
   ]
  },
  {
   "cell_type": "markdown",
   "metadata": {
    "collapsed": true
   },
   "source": [
    "## 1. Data Exploration & Preparation\n",
    "\n",
    "<p> Step to merge all supporting data provided to get meaningful description for the fields such as <b>code </b> </p>"
   ]
  },
  {
   "cell_type": "code",
   "execution_count": 2,
   "metadata": {
    "collapsed": true
   },
   "outputs": [],
   "source": [
    "# Read csv files\n",
    "neiss_2014 = pd.read_csv(\"./data/NEISS2014.csv\")\n",
    "body_parts = pd.read_csv(\"./data/BodyParts.csv\")\n",
    "diagnosis = pd.read_csv(\"./data/DiagnosisCodes.csv\")\n",
    "disposition = pd.read_csv(\"./data/Disposition.csv\")"
   ]
  },
  {
   "cell_type": "markdown",
   "metadata": {},
   "source": [
    "### Explore Data "
   ]
  },
  {
   "cell_type": "code",
   "execution_count": 3,
   "metadata": {},
   "outputs": [
    {
     "name": "stdout",
     "output_type": "stream",
     "text": [
      "   CPSC Case # trmt_date  psu  weight stratum  age     sex         race  \\\n",
      "0    141200216  10/23/14   63  99.704       M   21  Female  None listed   \n",
      "1    140117851    1/4/14   63  81.576       M   62  Female        White   \n",
      "2    150144993   8/17/14   63  99.704       M   21  Female  None listed   \n",
      "3    150230176   7/27/14   63  99.704       M   30  Female  None listed   \n",
      "4    141220717    9/8/14   63  99.704       M   16    Male  None listed   \n",
      "\n",
      "  race_other  diag diag_other  body_part  disposition  location  fmv  prod1  \\\n",
      "0        NaN    62        NaN         75            1         1    0    679   \n",
      "1        NaN    57        NaN         79            1         1    0   1807   \n",
      "2        NaN    57        NaN         83            1         0    0   1333   \n",
      "3        NaN    64        NaN         79            1         1    0   4076   \n",
      "4        NaN    57        NaN         82            1         0    0   1893   \n",
      "\n",
      "    prod2                                          narrative  \n",
      "0  1807.0  21YOF LAYING ON THE COUCH AND ROLLED OFF TO TH...  \n",
      "1   115.0  62YOF TRIPPED OVER THE CORD FOR THE VACUUM CLE...  \n",
      "2     NaN    21YOF FELL OFF A SKATEBOARD AND FRACTURED FOOT   \n",
      "3     NaN  30YOF TRYING TO GET OUT OF BED AND FELT A POP ...  \n",
      "4     NaN   16YOM HAD HAND SLAMMED IN A DOOR FRACTURED HAND   \n"
     ]
    }
   ],
   "source": [
    "# explore NEISS key data \n",
    "print(neiss_2014.head())"
   ]
  },
  {
   "cell_type": "code",
   "execution_count": 4,
   "metadata": {},
   "outputs": [
    {
     "name": "stdout",
     "output_type": "stream",
     "text": [
      "Total number of records in NEISS data: 65499\n",
      "Unique cases: 65499\n"
     ]
    }
   ],
   "source": [
    "# Total number of records in NEISS dataframe  \n",
    "neiss_row_count = neiss_2014.shape[0]\n",
    "print(\"Total number of records in NEISS data:\", neiss_row_count)\n",
    "\n",
    "neiss_unique_cases = len(neiss_2014['CPSC Case #'].unique().tolist())\n",
    "print(\"Unique cases:\", neiss_row_count)\n"
   ]
  },
  {
   "cell_type": "markdown",
   "metadata": {},
   "source": [
    "<p> Apparently every row in NEISS dataframe represent a unique case </p>"
   ]
  },
  {
   "cell_type": "code",
   "execution_count": 5,
   "metadata": {},
   "outputs": [
    {
     "data": {
      "text/html": [
       "<div>\n",
       "<style>\n",
       "    .dataframe thead tr:only-child th {\n",
       "        text-align: right;\n",
       "    }\n",
       "\n",
       "    .dataframe thead th {\n",
       "        text-align: left;\n",
       "    }\n",
       "\n",
       "    .dataframe tbody tr th {\n",
       "        vertical-align: top;\n",
       "    }\n",
       "</style>\n",
       "<table border=\"1\" class=\"dataframe\">\n",
       "  <thead>\n",
       "    <tr style=\"text-align: right;\">\n",
       "      <th></th>\n",
       "      <th>BodyPart</th>\n",
       "      <th>Code</th>\n",
       "    </tr>\n",
       "  </thead>\n",
       "  <tbody>\n",
       "    <tr>\n",
       "      <th>0</th>\n",
       "      <td>Arm, lower</td>\n",
       "      <td>33</td>\n",
       "    </tr>\n",
       "    <tr>\n",
       "      <th>1</th>\n",
       "      <td>Arm, upper</td>\n",
       "      <td>80</td>\n",
       "    </tr>\n",
       "    <tr>\n",
       "      <th>2</th>\n",
       "      <td>Ankle</td>\n",
       "      <td>37</td>\n",
       "    </tr>\n",
       "    <tr>\n",
       "      <th>3</th>\n",
       "      <td>Ear</td>\n",
       "      <td>94</td>\n",
       "    </tr>\n",
       "    <tr>\n",
       "      <th>4</th>\n",
       "      <td>Elbow</td>\n",
       "      <td>32</td>\n",
       "    </tr>\n",
       "  </tbody>\n",
       "</table>\n",
       "</div>"
      ],
      "text/plain": [
       "     BodyPart  Code\n",
       "0  Arm, lower    33\n",
       "1  Arm, upper    80\n",
       "2       Ankle    37\n",
       "3         Ear    94\n",
       "4       Elbow    32"
      ]
     },
     "execution_count": 5,
     "metadata": {},
     "output_type": "execute_result"
    }
   ],
   "source": [
    "# explore body_parts  \n",
    "body_parts.head()"
   ]
  },
  {
   "cell_type": "code",
   "execution_count": 6,
   "metadata": {},
   "outputs": [
    {
     "data": {
      "text/html": [
       "<div>\n",
       "<style>\n",
       "    .dataframe thead tr:only-child th {\n",
       "        text-align: right;\n",
       "    }\n",
       "\n",
       "    .dataframe thead th {\n",
       "        text-align: left;\n",
       "    }\n",
       "\n",
       "    .dataframe tbody tr th {\n",
       "        vertical-align: top;\n",
       "    }\n",
       "</style>\n",
       "<table border=\"1\" class=\"dataframe\">\n",
       "  <thead>\n",
       "    <tr style=\"text-align: right;\">\n",
       "      <th></th>\n",
       "      <th>Diagnosis</th>\n",
       "      <th>Code</th>\n",
       "    </tr>\n",
       "  </thead>\n",
       "  <tbody>\n",
       "    <tr>\n",
       "      <th>0</th>\n",
       "      <td>Amputation</td>\n",
       "      <td>50</td>\n",
       "    </tr>\n",
       "    <tr>\n",
       "      <th>1</th>\n",
       "      <td>Anoxia</td>\n",
       "      <td>65</td>\n",
       "    </tr>\n",
       "    <tr>\n",
       "      <th>2</th>\n",
       "      <td>Aspirated foreign object</td>\n",
       "      <td>42</td>\n",
       "    </tr>\n",
       "    <tr>\n",
       "      <th>3</th>\n",
       "      <td>Avulsion</td>\n",
       "      <td>72</td>\n",
       "    </tr>\n",
       "    <tr>\n",
       "      <th>4</th>\n",
       "      <td>Burns, scald (from hot liquids or steam)</td>\n",
       "      <td>48</td>\n",
       "    </tr>\n",
       "  </tbody>\n",
       "</table>\n",
       "</div>"
      ],
      "text/plain": [
       "                                  Diagnosis  Code\n",
       "0                                Amputation    50\n",
       "1                                    Anoxia    65\n",
       "2                  Aspirated foreign object    42\n",
       "3                                  Avulsion    72\n",
       "4  Burns, scald (from hot liquids or steam)    48"
      ]
     },
     "execution_count": 6,
     "metadata": {},
     "output_type": "execute_result"
    }
   ],
   "source": [
    "# explore diagnosis by code  \n",
    "diagnosis.head()"
   ]
  },
  {
   "cell_type": "code",
   "execution_count": 7,
   "metadata": {},
   "outputs": [
    {
     "data": {
      "text/html": [
       "<div>\n",
       "<style>\n",
       "    .dataframe thead tr:only-child th {\n",
       "        text-align: right;\n",
       "    }\n",
       "\n",
       "    .dataframe thead th {\n",
       "        text-align: left;\n",
       "    }\n",
       "\n",
       "    .dataframe tbody tr th {\n",
       "        vertical-align: top;\n",
       "    }\n",
       "</style>\n",
       "<table border=\"1\" class=\"dataframe\">\n",
       "  <thead>\n",
       "    <tr style=\"text-align: right;\">\n",
       "      <th></th>\n",
       "      <th>Disposition</th>\n",
       "      <th>Code</th>\n",
       "    </tr>\n",
       "  </thead>\n",
       "  <tbody>\n",
       "    <tr>\n",
       "      <th>0</th>\n",
       "      <td>Treated and released, or examined and released...</td>\n",
       "      <td>1</td>\n",
       "    </tr>\n",
       "    <tr>\n",
       "      <th>1</th>\n",
       "      <td>Treated and transferred to another hospital</td>\n",
       "      <td>2</td>\n",
       "    </tr>\n",
       "    <tr>\n",
       "      <th>2</th>\n",
       "      <td>Treated and admitted for hospitalization (with...</td>\n",
       "      <td>4</td>\n",
       "    </tr>\n",
       "    <tr>\n",
       "      <th>3</th>\n",
       "      <td>Held for observation (includes admitted for ob...</td>\n",
       "      <td>5</td>\n",
       "    </tr>\n",
       "    <tr>\n",
       "      <th>4</th>\n",
       "      <td>Left without being seen/Left against medical a...</td>\n",
       "      <td>6</td>\n",
       "    </tr>\n",
       "  </tbody>\n",
       "</table>\n",
       "</div>"
      ],
      "text/plain": [
       "                                         Disposition  Code\n",
       "0  Treated and released, or examined and released...     1\n",
       "1        Treated and transferred to another hospital     2\n",
       "2  Treated and admitted for hospitalization (with...     4\n",
       "3  Held for observation (includes admitted for ob...     5\n",
       "4  Left without being seen/Left against medical a...     6"
      ]
     },
     "execution_count": 7,
     "metadata": {},
     "output_type": "execute_result"
    }
   ],
   "source": [
    "# explore Disposition by code  \n",
    "disposition.head()"
   ]
  },
  {
   "cell_type": "markdown",
   "metadata": {},
   "source": [
    "### Merge Data\n",
    "<p> Apparently we will have to map the codes in the NEISS data to get meaningful description </p>\n",
    "\n",
    "####  Codes to map\n",
    "<p>\n",
    "<li> Field <b> body_part </b> from NEISS2014  can be joined with relevant field <b> Code </b> from BodyParts.csv </li>\n",
    "<li> Field <b> diag </b> from NEISS2014  can be joined with relevant field <b> Code </b> from DiagnosisCodes.csv </li>\n",
    "<li> Field <b> disposition </b> from NEISS2014  can be joined with relevant field <b> Code </b> from Disposition.csv </li>\n"
   ]
  },
  {
   "cell_type": "code",
   "execution_count": 8,
   "metadata": {
    "collapsed": true
   },
   "outputs": [],
   "source": [
    "# rename column BodyPart from data body_parts \n",
    "\n",
    "body_parts.rename(columns={\"BodyPart\": \"body_part_name\"}, inplace=True)\n",
    "\n",
    "# merge with NEISS data to get body_part_name\n",
    "neiss_2014 = pd.merge(neiss_2014, \n",
    "                  body_parts,\n",
    "                  left_on='body_part',\n",
    "                  right_on='Code',\n",
    "                  how='left')\n",
    "\n",
    "# Drop the column Code from merged table as it is not needed \n",
    "neiss_2014 = neiss_2014.drop('Code', 1)"
   ]
  },
  {
   "cell_type": "code",
   "execution_count": 9,
   "metadata": {
    "collapsed": true
   },
   "outputs": [],
   "source": [
    "# rename column Diagnosis from diagnosis data \n",
    "\n",
    "diagnosis.rename(columns={\"Diagnosis\": \"diagnosis_name\"}, inplace=True)\n",
    "\n",
    "# merge with NEISS data to get relevant name of the diagnosis \n",
    "neiss_2014 = pd.merge(neiss_2014, \n",
    "                  diagnosis,\n",
    "                  left_on='diag',\n",
    "                  right_on='Code',\n",
    "                  how='left')\n",
    "\n",
    "# Drop the column Code from merged table as it is not needed \n",
    "neiss_2014 = neiss_2014.drop('Code', 1)"
   ]
  },
  {
   "cell_type": "code",
   "execution_count": 10,
   "metadata": {
    "collapsed": true
   },
   "outputs": [],
   "source": [
    "# rename column Disposition from disposition\n",
    "\n",
    "disposition.rename(columns={\"Disposition\": \"disposition_name\"}, inplace=True)\n",
    "\n",
    "# merge with NEISS data to get body_part_name\n",
    "neiss_2014 = pd.merge(neiss_2014, \n",
    "                  disposition,\n",
    "                  left_on='disposition',\n",
    "                  right_on='Code',\n",
    "                  how='left')\n",
    "\n",
    "# Drop the column Code from merged table as it is not needed \n",
    "neiss_2014 = neiss_2014.drop('Code', 1)"
   ]
  },
  {
   "cell_type": "code",
   "execution_count": 11,
   "metadata": {},
   "outputs": [
    {
     "data": {
      "text/html": [
       "<div>\n",
       "<style>\n",
       "    .dataframe thead tr:only-child th {\n",
       "        text-align: right;\n",
       "    }\n",
       "\n",
       "    .dataframe thead th {\n",
       "        text-align: left;\n",
       "    }\n",
       "\n",
       "    .dataframe tbody tr th {\n",
       "        vertical-align: top;\n",
       "    }\n",
       "</style>\n",
       "<table border=\"1\" class=\"dataframe\">\n",
       "  <thead>\n",
       "    <tr style=\"text-align: right;\">\n",
       "      <th></th>\n",
       "      <th>CPSC Case #</th>\n",
       "      <th>trmt_date</th>\n",
       "      <th>psu</th>\n",
       "      <th>weight</th>\n",
       "      <th>stratum</th>\n",
       "      <th>age</th>\n",
       "      <th>sex</th>\n",
       "      <th>race</th>\n",
       "      <th>race_other</th>\n",
       "      <th>diag</th>\n",
       "      <th>...</th>\n",
       "      <th>body_part</th>\n",
       "      <th>disposition</th>\n",
       "      <th>location</th>\n",
       "      <th>fmv</th>\n",
       "      <th>prod1</th>\n",
       "      <th>prod2</th>\n",
       "      <th>narrative</th>\n",
       "      <th>body_part_name</th>\n",
       "      <th>diagnosis_name</th>\n",
       "      <th>disposition_name</th>\n",
       "    </tr>\n",
       "  </thead>\n",
       "  <tbody>\n",
       "    <tr>\n",
       "      <th>0</th>\n",
       "      <td>141200216</td>\n",
       "      <td>10/23/14</td>\n",
       "      <td>63</td>\n",
       "      <td>99.704</td>\n",
       "      <td>M</td>\n",
       "      <td>21</td>\n",
       "      <td>Female</td>\n",
       "      <td>None listed</td>\n",
       "      <td>NaN</td>\n",
       "      <td>62</td>\n",
       "      <td>...</td>\n",
       "      <td>75</td>\n",
       "      <td>1</td>\n",
       "      <td>1</td>\n",
       "      <td>0</td>\n",
       "      <td>679</td>\n",
       "      <td>1807.0</td>\n",
       "      <td>21YOF LAYING ON THE COUCH AND ROLLED OFF TO TH...</td>\n",
       "      <td>Head</td>\n",
       "      <td>Internal organ injury</td>\n",
       "      <td>Treated and released, or examined and released...</td>\n",
       "    </tr>\n",
       "    <tr>\n",
       "      <th>1</th>\n",
       "      <td>140117851</td>\n",
       "      <td>1/4/14</td>\n",
       "      <td>63</td>\n",
       "      <td>81.576</td>\n",
       "      <td>M</td>\n",
       "      <td>62</td>\n",
       "      <td>Female</td>\n",
       "      <td>White</td>\n",
       "      <td>NaN</td>\n",
       "      <td>57</td>\n",
       "      <td>...</td>\n",
       "      <td>79</td>\n",
       "      <td>1</td>\n",
       "      <td>1</td>\n",
       "      <td>0</td>\n",
       "      <td>1807</td>\n",
       "      <td>115.0</td>\n",
       "      <td>62YOF TRIPPED OVER THE CORD FOR THE VACUUM CLE...</td>\n",
       "      <td>Trunk, lower</td>\n",
       "      <td>Fracture</td>\n",
       "      <td>Treated and released, or examined and released...</td>\n",
       "    </tr>\n",
       "    <tr>\n",
       "      <th>2</th>\n",
       "      <td>150144993</td>\n",
       "      <td>8/17/14</td>\n",
       "      <td>63</td>\n",
       "      <td>99.704</td>\n",
       "      <td>M</td>\n",
       "      <td>21</td>\n",
       "      <td>Female</td>\n",
       "      <td>None listed</td>\n",
       "      <td>NaN</td>\n",
       "      <td>57</td>\n",
       "      <td>...</td>\n",
       "      <td>83</td>\n",
       "      <td>1</td>\n",
       "      <td>0</td>\n",
       "      <td>0</td>\n",
       "      <td>1333</td>\n",
       "      <td>NaN</td>\n",
       "      <td>21YOF FELL OFF A SKATEBOARD AND FRACTURED FOOT</td>\n",
       "      <td>Foot</td>\n",
       "      <td>Fracture</td>\n",
       "      <td>Treated and released, or examined and released...</td>\n",
       "    </tr>\n",
       "    <tr>\n",
       "      <th>3</th>\n",
       "      <td>150230176</td>\n",
       "      <td>7/27/14</td>\n",
       "      <td>63</td>\n",
       "      <td>99.704</td>\n",
       "      <td>M</td>\n",
       "      <td>30</td>\n",
       "      <td>Female</td>\n",
       "      <td>None listed</td>\n",
       "      <td>NaN</td>\n",
       "      <td>64</td>\n",
       "      <td>...</td>\n",
       "      <td>79</td>\n",
       "      <td>1</td>\n",
       "      <td>1</td>\n",
       "      <td>0</td>\n",
       "      <td>4076</td>\n",
       "      <td>NaN</td>\n",
       "      <td>30YOF TRYING TO GET OUT OF BED AND FELT A POP ...</td>\n",
       "      <td>Trunk, lower</td>\n",
       "      <td>Strain or Sprain</td>\n",
       "      <td>Treated and released, or examined and released...</td>\n",
       "    </tr>\n",
       "    <tr>\n",
       "      <th>4</th>\n",
       "      <td>141220717</td>\n",
       "      <td>9/8/14</td>\n",
       "      <td>63</td>\n",
       "      <td>99.704</td>\n",
       "      <td>M</td>\n",
       "      <td>16</td>\n",
       "      <td>Male</td>\n",
       "      <td>None listed</td>\n",
       "      <td>NaN</td>\n",
       "      <td>57</td>\n",
       "      <td>...</td>\n",
       "      <td>82</td>\n",
       "      <td>1</td>\n",
       "      <td>0</td>\n",
       "      <td>0</td>\n",
       "      <td>1893</td>\n",
       "      <td>NaN</td>\n",
       "      <td>16YOM HAD HAND SLAMMED IN A DOOR FRACTURED HAND</td>\n",
       "      <td>Hand</td>\n",
       "      <td>Fracture</td>\n",
       "      <td>Treated and released, or examined and released...</td>\n",
       "    </tr>\n",
       "  </tbody>\n",
       "</table>\n",
       "<p>5 rows × 21 columns</p>\n",
       "</div>"
      ],
      "text/plain": [
       "   CPSC Case # trmt_date  psu  weight stratum  age     sex         race  \\\n",
       "0    141200216  10/23/14   63  99.704       M   21  Female  None listed   \n",
       "1    140117851    1/4/14   63  81.576       M   62  Female        White   \n",
       "2    150144993   8/17/14   63  99.704       M   21  Female  None listed   \n",
       "3    150230176   7/27/14   63  99.704       M   30  Female  None listed   \n",
       "4    141220717    9/8/14   63  99.704       M   16    Male  None listed   \n",
       "\n",
       "  race_other  diag                        ...                          \\\n",
       "0        NaN    62                        ...                           \n",
       "1        NaN    57                        ...                           \n",
       "2        NaN    57                        ...                           \n",
       "3        NaN    64                        ...                           \n",
       "4        NaN    57                        ...                           \n",
       "\n",
       "  body_part  disposition  location  fmv  prod1   prod2  \\\n",
       "0        75            1         1    0    679  1807.0   \n",
       "1        79            1         1    0   1807   115.0   \n",
       "2        83            1         0    0   1333     NaN   \n",
       "3        79            1         1    0   4076     NaN   \n",
       "4        82            1         0    0   1893     NaN   \n",
       "\n",
       "                                           narrative body_part_name  \\\n",
       "0  21YOF LAYING ON THE COUCH AND ROLLED OFF TO TH...           Head   \n",
       "1  62YOF TRIPPED OVER THE CORD FOR THE VACUUM CLE...   Trunk, lower   \n",
       "2    21YOF FELL OFF A SKATEBOARD AND FRACTURED FOOT            Foot   \n",
       "3  30YOF TRYING TO GET OUT OF BED AND FELT A POP ...   Trunk, lower   \n",
       "4   16YOM HAD HAND SLAMMED IN A DOOR FRACTURED HAND            Hand   \n",
       "\n",
       "          diagnosis_name                                   disposition_name  \n",
       "0  Internal organ injury  Treated and released, or examined and released...  \n",
       "1               Fracture  Treated and released, or examined and released...  \n",
       "2               Fracture  Treated and released, or examined and released...  \n",
       "3       Strain or Sprain  Treated and released, or examined and released...  \n",
       "4               Fracture  Treated and released, or examined and released...  \n",
       "\n",
       "[5 rows x 21 columns]"
      ]
     },
     "execution_count": 11,
     "metadata": {},
     "output_type": "execute_result"
    }
   ],
   "source": [
    "# Quickly Check if we have all columns needed to analyse the data further \n",
    "neiss_2014.head()"
   ]
  },
  {
   "cell_type": "markdown",
   "metadata": {},
   "source": [
    "<br>\n",
    "## 2. Data Analysis\n",
    "\n",
    "<p> Analyse the prepared data and answer specific questions </p>"
   ]
  },
  {
   "cell_type": "markdown",
   "metadata": {},
   "source": [
    "### Question 1\n",
    "\n",
    "#### (A) What are the top three body parts most frequently represented in this dataset?"
   ]
  },
  {
   "cell_type": "code",
   "execution_count": 12,
   "metadata": {},
   "outputs": [
    {
     "name": "stdout",
     "output_type": "stream",
     "text": [
      "Top Body Parts:\n",
      "\n",
      "Head            9891\n",
      "Face            5786\n",
      "Finger          5783\n",
      "Trunk, lower    5717\n",
      "Trunk, upper    3868\n",
      "Name: body_part_name, dtype: int64\n"
     ]
    }
   ],
   "source": [
    "# Top body parts by frequency in the dataset not restricting to 3\n",
    "top_body_parts = neiss_2014['body_part_name'].value_counts().nlargest(5)  \n",
    "print(\"Top Body Parts:\\n\")\n",
    "print(top_body_parts)"
   ]
  },
  {
   "cell_type": "markdown",
   "metadata": {},
   "source": [
    "#### <u>Result: </u> \n",
    "<p>From the above analysis, we can infer that the top three body parts most frequently represented in the dataset are </p> \n",
    "\n",
    "<b>\n",
    "1. Head \n",
    "2. Face\n",
    "3. Finger "
   ]
  },
  {
   "cell_type": "markdown",
   "metadata": {},
   "source": [
    "\n",
    "#### (B) What are the top three body parts that are least frequently represented?"
   ]
  },
  {
   "cell_type": "code",
   "execution_count": 13,
   "metadata": {},
   "outputs": [
    {
     "name": "stdout",
     "output_type": "stream",
     "text": [
      "Bottom Body Parts:\n",
      "\n",
      "25-50% of body      4\n",
      "Pubic region      286\n",
      "Not Recorded      390\n",
      "Internal          549\n",
      "Arm, upper        745\n",
      "Leg, upper        756\n",
      "Name: body_part_name, dtype: int64\n"
     ]
    }
   ],
   "source": [
    "# bottom 'n' body parts by frequency in the dataset \n",
    "bottom_body_parts = neiss_2014['body_part_name'].value_counts().nsmallest(6)\n",
    "print(\"Bottom Body Parts:\\n\")\n",
    "print(bottom_body_parts)"
   ]
  },
  {
   "cell_type": "markdown",
   "metadata": {},
   "source": [
    "#### <u>Result: </u> \n",
    "\n",
    "<b> Scenario 1: </b> Counting as it is \n",
    "<p> If we count the frequency of body part as it is then the following are the top body parts least frequently represented </p> \n",
    "\n",
    "1. 25-50% of body  \n",
    "2. Pubic region\n",
    "3. Not Recorded  \n",
    "\n",
    "<b> Scenario 2: </b> Excluding unrecorded data\n",
    "\n",
    "<p> If we exclude the records that does not have any body part associated with it then </p> \n",
    "\n",
    "1. 25-50% of body  \n",
    "2. Pubic region\n",
    "3. Internal  \n",
    "    * use with aspiration and ingestion \n",
    "    \n",
    " \n",
    "<b> Scenario 3: </b> Excluding unrecorded data and injury that affects more than one body part (mainly with severe injuries) \n",
    "\n",
    "<p> Here we only consider mostly the individual body part. Please refer Appendix D in NEISS manual for more details </p> \n",
    "\n",
    "1. Pubic region\n",
    "2. Arm, upper\n",
    "3. Leg, upper \n",
    "      "
   ]
  },
  {
   "cell_type": "markdown",
   "metadata": {},
   "source": [
    "### Question 2\n",
    "\n",
    "#### (A) How many injuries in this dataset involve a skateboard?"
   ]
  },
  {
   "cell_type": "code",
   "execution_count": 14,
   "metadata": {
    "collapsed": true
   },
   "outputs": [],
   "source": [
    "# Count of narratives that had words such as skateboard, skate board, skate boarding\n",
    "# words associated with skateboard related injuries\n",
    "# making the search case insensitive \n",
    "skateboard_condition = neiss_2014.narrative.str.contains(r'SKATEBOARD|SKATE BOARD', case=False)\n",
    "total_skateboard_injuries = skateboard_condition.sum()"
   ]
  },
  {
   "cell_type": "markdown",
   "metadata": {},
   "source": [
    "#### <u>Result: </u> \n",
    "\n",
    "<p> <b> Note: </b> We are not restricting our search to just \"SKATEBOARD\" rather also look for other relevant key words like SKATE BOARD </b>"
   ]
  },
  {
   "cell_type": "code",
   "execution_count": 15,
   "metadata": {},
   "outputs": [
    {
     "name": "stdout",
     "output_type": "stream",
     "text": [
      "Total Skateboard related injuries identified from narrative/description of the injuriy:\n",
      " \n",
      "472\n"
     ]
    }
   ],
   "source": [
    "print(\"Total Skateboard related injuries identified from narrative/description of the injuriy:\\n \")\n",
    "print(total_skateboard_injuries)"
   ]
  },
  {
   "cell_type": "markdown",
   "metadata": {},
   "source": [
    "#### (B) Of those injuries, what percentage were male and what percentage were female?"
   ]
  },
  {
   "cell_type": "code",
   "execution_count": 16,
   "metadata": {},
   "outputs": [
    {
     "name": "stdout",
     "output_type": "stream",
     "text": [
      "['Female', 'Male']\n"
     ]
    }
   ],
   "source": [
    "# check distinct values for the column sex to ensure we don't miss out rows due to slight variation in text \n",
    "unique_sex_values = neiss_2014['sex'].unique().tolist()\n",
    "print(unique_sex_values)\n"
   ]
  },
  {
   "cell_type": "code",
   "execution_count": 17,
   "metadata": {
    "collapsed": true
   },
   "outputs": [],
   "source": [
    "# Total female skateboard injuries \n",
    "female_skateboard_injuries = ((neiss_2014['sex'] == 'Female') & (skateboard_condition == True)).sum()\n",
    "\n",
    "# % of skateboard related injuries that were female \n",
    "percent_female = \"{:.2%}\".format(female_skateboard_injuries/total_skateboard_injuries)\n",
    "\n",
    "# Total male skateboard injuries \n",
    "male_skateboard_injuries = ((neiss_2014['sex'] == 'Male') & (skateboard_condition == True)).sum()\n",
    "\n",
    "# % of skateboard related injuries that were male \n",
    "percent_male = \"{:.2%}\".format(male_skateboard_injuries/total_skateboard_injuries)"
   ]
  },
  {
   "cell_type": "markdown",
   "metadata": {},
   "source": [
    "#### <u>Result: </u> \n",
    "\n",
    "<p> Percentage of skateboard related injuries that were male and female </p>\n"
   ]
  },
  {
   "cell_type": "code",
   "execution_count": 18,
   "metadata": {},
   "outputs": [
    {
     "name": "stdout",
     "output_type": "stream",
     "text": [
      "Female:  17.37%\n",
      "Male:  82.63%\n"
     ]
    }
   ],
   "source": [
    "print(\"Female: \", percent_female)\n",
    "print(\"Male: \", percent_male)"
   ]
  },
  {
   "cell_type": "markdown",
   "metadata": {},
   "source": [
    "#### (C) What was the average age of someone injured in an incident involving a skateboard?\n"
   ]
  },
  {
   "cell_type": "code",
   "execution_count": 19,
   "metadata": {},
   "outputs": [
    {
     "name": "stdout",
     "output_type": "stream",
     "text": [
      "[21, 62, 30, 16, 22, 92, 89, 75, 68, 5, 91, 72, 31, 17, 53, 36, 64, 28, 6, 7, 79, 55, 58, 70, 13, 65, 87, 45, 2, 11, 69, 27, 213, 14, 8, 95, 77, 52, 48, 43, 84, 97, 4, 12, 63, 42, 74, 61, 73, 29, 80, 19, 203, 51, 10, 56, 217, 44, 204, 94, 18, 34, 26, 81, 46, 38, 25, 78, 37, 15, 222, 59, 90, 41, 9, 23, 54, 35, 20, 83, 47, 33, 71, 24, 82, 223, 3, 215, 76, 88, 212, 216, 219, 210, 32, 57, 60, 40, 220, 39, 85, 50, 67, 208, 49, 86, 99, 214, 211, 201, 93, 66, 98, 209, 221, 207, 96, 101, 206, 218, 205, 202, 105, 102, 0, 100, 103]\n"
     ]
    }
   ],
   "source": [
    "# check distinct values for the age column to ensure we don't miss out rows due to slight variation in text \n",
    "unique_age_values = neiss_2014['age'].unique().tolist()\n",
    "print(unique_age_values)"
   ]
  },
  {
   "cell_type": "markdown",
   "metadata": {},
   "source": [
    "<p> There are values above 200 which prompted me to check the manual; NEISS manual showed the age is recorded in <b> years </b> for patients who are <b> 2 years and above </b> otherwise it is recorded in terms of months with 2 prefixed to show that age is in months</p>\n",
    "\n",
    "<img src=\"./data/age_code.png\">"
   ]
  },
  {
   "cell_type": "code",
   "execution_count": 20,
   "metadata": {},
   "outputs": [],
   "source": [
    "# create a new column called age_in_years that shows all age in terms of years\n",
    "# 1 month = 0.083333 years \n",
    "\n",
    "neiss_2014['age_in_years'] = np.where(neiss_2014['age'] >=200,round((neiss_2014['age']-200)*0.083333,2),\\\n",
    "                                      neiss_2014['age'])\n"
   ]
  },
  {
   "cell_type": "code",
   "execution_count": 21,
   "metadata": {
    "collapsed": true
   },
   "outputs": [],
   "source": [
    "# Average age of someone injuried in an incident involving a skateboard in terms of mean \n",
    "mean_age = neiss_2014[skateboard_condition==True].mean()['age_in_years']"
   ]
  },
  {
   "cell_type": "code",
   "execution_count": 22,
   "metadata": {
    "collapsed": true
   },
   "outputs": [],
   "source": [
    "# Average age of someone injuried in an incident involving a skateboard in terms of median \n",
    "median_age = neiss_2014[skateboard_condition==True].median()['age_in_years']"
   ]
  },
  {
   "cell_type": "markdown",
   "metadata": {},
   "source": [
    "#### <u>Result: </u> \n",
    "\n",
    "<p> Average age of someone injuried in an incident involving a skateboard </p>\n"
   ]
  },
  {
   "cell_type": "code",
   "execution_count": 23,
   "metadata": {},
   "outputs": [
    {
     "name": "stdout",
     "output_type": "stream",
     "text": [
      "Mean:  18 years\n",
      "Median:  16 years\n"
     ]
    }
   ],
   "source": [
    "print(\"Mean: \", int(round(mean_age,1)), \"years\")\n",
    "print(\"Median: \",int(round(median_age,1)), \"years\")"
   ]
  },
  {
   "cell_type": "markdown",
   "metadata": {},
   "source": [
    "### Question 3\n",
    "\n",
    "#### (A) What diagnosis had the highest hospitalization rate? \n",
    "\n",
    "<p> Hospitalization rate is calculated as number of hospital inpatient discharges in particular group divided by the population in that group * 1000. In our case group can be diagnosis. </p>\n",
    "\n",
    "<p> <b>Definition Source: </b> http://www.communityview.ca/Catalogue/Indicator/Definition/202 </p>\n"
   ]
  },
  {
   "cell_type": "code",
   "execution_count": 24,
   "metadata": {},
   "outputs": [
    {
     "data": {
      "text/plain": [
       "['Treated and released, or examined and released\\n without treatment',\n",
       " 'Treated and transferred to another hospital',\n",
       " 'Treated and admitted for hospitalization (within same facility)',\n",
       " 'Held for observation (includes admitted for observation)',\n",
       " 'Left without being seen/Left against medical advice',\n",
       " 'Fatality, including DOA, died in the ED',\n",
       " 'Not Recorded']"
      ]
     },
     "execution_count": 24,
     "metadata": {},
     "output_type": "execute_result"
    }
   ],
   "source": [
    "# Let us first explore the different disposition information we have\n",
    "\n",
    "unique_disposition = disposition['disposition_name'].unique().tolist()\n",
    "unique_disposition"
   ]
  },
  {
   "cell_type": "markdown",
   "metadata": {},
   "source": [
    "<p> Clearly, we will have to consider the disposition value <b>\"Treated and admitted for hospitalization (within same facility)\" </b>to calculate the hospitalization rate </p>"
   ]
  },
  {
   "cell_type": "code",
   "execution_count": 25,
   "metadata": {},
   "outputs": [
    {
     "data": {
      "text/html": [
       "<div>\n",
       "<style>\n",
       "    .dataframe thead tr:only-child th {\n",
       "        text-align: right;\n",
       "    }\n",
       "\n",
       "    .dataframe thead th {\n",
       "        text-align: left;\n",
       "    }\n",
       "\n",
       "    .dataframe tbody tr th {\n",
       "        vertical-align: top;\n",
       "    }\n",
       "</style>\n",
       "<table border=\"1\" class=\"dataframe\">\n",
       "  <thead>\n",
       "    <tr style=\"text-align: right;\">\n",
       "      <th></th>\n",
       "      <th>total_population</th>\n",
       "      <th>total_hospitalized</th>\n",
       "      <th>hospitalization_rate (%)</th>\n",
       "    </tr>\n",
       "  </thead>\n",
       "  <tbody>\n",
       "    <tr>\n",
       "      <th>Submersion (including Drowning)</th>\n",
       "      <td>54</td>\n",
       "      <td>23.0</td>\n",
       "      <td>42.59</td>\n",
       "    </tr>\n",
       "    <tr>\n",
       "      <th>Fracture</th>\n",
       "      <td>9735</td>\n",
       "      <td>1811.0</td>\n",
       "      <td>18.60</td>\n",
       "    </tr>\n",
       "    <tr>\n",
       "      <th>Amputation</th>\n",
       "      <td>125</td>\n",
       "      <td>20.0</td>\n",
       "      <td>16.00</td>\n",
       "    </tr>\n",
       "    <tr>\n",
       "      <th>Poisoning</th>\n",
       "      <td>724</td>\n",
       "      <td>88.0</td>\n",
       "      <td>12.15</td>\n",
       "    </tr>\n",
       "    <tr>\n",
       "      <th>Internal organ injury</th>\n",
       "      <td>5306</td>\n",
       "      <td>630.0</td>\n",
       "      <td>11.87</td>\n",
       "    </tr>\n",
       "    <tr>\n",
       "      <th>Ingested foreign object</th>\n",
       "      <td>483</td>\n",
       "      <td>56.0</td>\n",
       "      <td>11.59</td>\n",
       "    </tr>\n",
       "    <tr>\n",
       "      <th>Burns, not specified</th>\n",
       "      <td>19</td>\n",
       "      <td>2.0</td>\n",
       "      <td>10.53</td>\n",
       "    </tr>\n",
       "    <tr>\n",
       "      <th>Electric shock</th>\n",
       "      <td>32</td>\n",
       "      <td>3.0</td>\n",
       "      <td>9.38</td>\n",
       "    </tr>\n",
       "    <tr>\n",
       "      <th>Nerve damage</th>\n",
       "      <td>198</td>\n",
       "      <td>17.0</td>\n",
       "      <td>8.59</td>\n",
       "    </tr>\n",
       "    <tr>\n",
       "      <th>Hematoma</th>\n",
       "      <td>534</td>\n",
       "      <td>42.0</td>\n",
       "      <td>7.87</td>\n",
       "    </tr>\n",
       "  </tbody>\n",
       "</table>\n",
       "</div>"
      ],
      "text/plain": [
       "                                 total_population  total_hospitalized  \\\n",
       "Submersion (including Drowning)                54                23.0   \n",
       "Fracture                                     9735              1811.0   \n",
       "Amputation                                    125                20.0   \n",
       "Poisoning                                     724                88.0   \n",
       "Internal organ injury                        5306               630.0   \n",
       "Ingested foreign object                       483                56.0   \n",
       "Burns, not specified                           19                 2.0   \n",
       "Electric shock                                 32                 3.0   \n",
       "Nerve damage                                  198                17.0   \n",
       "Hematoma                                      534                42.0   \n",
       "\n",
       "                                 hospitalization_rate (%)  \n",
       "Submersion (including Drowning)                     42.59  \n",
       "Fracture                                            18.60  \n",
       "Amputation                                          16.00  \n",
       "Poisoning                                           12.15  \n",
       "Internal organ injury                               11.87  \n",
       "Ingested foreign object                             11.59  \n",
       "Burns, not specified                                10.53  \n",
       "Electric shock                                       9.38  \n",
       "Nerve damage                                         8.59  \n",
       "Hematoma                                             7.87  "
      ]
     },
     "execution_count": 25,
     "metadata": {},
     "output_type": "execute_result"
    }
   ],
   "source": [
    "# total cases by diagnosis \n",
    "diagnosis_total =  neiss_2014.groupby('diagnosis_name')['diagnosis_name'].agg(['size']).rename(columns={'size': 'total_population'})\n",
    "\n",
    "# cases hospitalized by diagnosis  \n",
    "diagnosis_hospitalized = neiss_2014[(neiss_2014['disposition_name']=='Treated and admitted for hospitalization (within same facility)')]\n",
    "diagnosis_hospitalized = diagnosis_hospitalized.groupby('diagnosis_name')['diagnosis_name'].agg(['size']).rename(columns={'size': 'total_hospitalized'})\n",
    "\n",
    "# merge total cases and cases hospitalized to calculate hospitalization rate by diagnosis \n",
    "# hospitalization_Rate = total cases hospitalized / total cases \n",
    "\n",
    "hospitalization_data = pd.concat([diagnosis_total, diagnosis_hospitalized], axis=1)\n",
    "hospitalization_data['hospitalization_rate (%)'] = round(hospitalization_data['total_hospitalized']/hospitalization_data['total_population'] * 100,2)\n",
    "hospitalization_data = hospitalization_data.sort_values(by='hospitalization_rate (%)', ascending=False)\n",
    "\n",
    "# view the top diagnosis by hospitalization rate \n",
    "hospitalization_data.head(10)"
   ]
  },
  {
   "cell_type": "markdown",
   "metadata": {},
   "source": [
    "#### <u>Result: </u> \n",
    "\n",
    "<p> We can infer from the above table that <b> Submersion (including Drowning) </b> had highest hospitalization rate however the number of cases is very low. This is followed by <b> Fracture </b> with significant number of cases and also high hospitalization rate.\n",
    "</p>\n",
    "<br>\n"
   ]
  },
  {
   "cell_type": "markdown",
   "metadata": {},
   "source": [
    "#### (B) What diagnosis most often concluded with the individual leaving without being seen?\n"
   ]
  },
  {
   "cell_type": "code",
   "execution_count": 26,
   "metadata": {},
   "outputs": [
    {
     "data": {
      "text/html": [
       "<div>\n",
       "<style>\n",
       "    .dataframe thead tr:only-child th {\n",
       "        text-align: right;\n",
       "    }\n",
       "\n",
       "    .dataframe thead th {\n",
       "        text-align: left;\n",
       "    }\n",
       "\n",
       "    .dataframe tbody tr th {\n",
       "        vertical-align: top;\n",
       "    }\n",
       "</style>\n",
       "<table border=\"1\" class=\"dataframe\">\n",
       "  <thead>\n",
       "    <tr style=\"text-align: right;\">\n",
       "      <th></th>\n",
       "      <th>total_population</th>\n",
       "      <th>total_not_seen</th>\n",
       "      <th>not_seen_rate (%)</th>\n",
       "    </tr>\n",
       "  </thead>\n",
       "  <tbody>\n",
       "    <tr>\n",
       "      <th>Poisoning</th>\n",
       "      <td>724</td>\n",
       "      <td>24.0</td>\n",
       "      <td>3.31</td>\n",
       "    </tr>\n",
       "    <tr>\n",
       "      <th>Other/Not Stated</th>\n",
       "      <td>8120</td>\n",
       "      <td>257.0</td>\n",
       "      <td>3.17</td>\n",
       "    </tr>\n",
       "    <tr>\n",
       "      <th>Aspirated foreign object</th>\n",
       "      <td>66</td>\n",
       "      <td>2.0</td>\n",
       "      <td>3.03</td>\n",
       "    </tr>\n",
       "    <tr>\n",
       "      <th>Burns, radiation (includes all cell damage by ultraviolet, x- rays, microwaves, laser beam, radioactive materials, etc.)</th>\n",
       "      <td>35</td>\n",
       "      <td>1.0</td>\n",
       "      <td>2.86</td>\n",
       "    </tr>\n",
       "    <tr>\n",
       "      <th>Burns, chemical (caustics, etc.)</th>\n",
       "      <td>86</td>\n",
       "      <td>2.0</td>\n",
       "      <td>2.33</td>\n",
       "    </tr>\n",
       "    <tr>\n",
       "      <th>Hematoma</th>\n",
       "      <td>534</td>\n",
       "      <td>12.0</td>\n",
       "      <td>2.25</td>\n",
       "    </tr>\n",
       "    <tr>\n",
       "      <th>Burns, thermal (from flames or hot surface)</th>\n",
       "      <td>512</td>\n",
       "      <td>10.0</td>\n",
       "      <td>1.95</td>\n",
       "    </tr>\n",
       "    <tr>\n",
       "      <th>Anoxia</th>\n",
       "      <td>170</td>\n",
       "      <td>3.0</td>\n",
       "      <td>1.76</td>\n",
       "    </tr>\n",
       "    <tr>\n",
       "      <th>Amputation</th>\n",
       "      <td>125</td>\n",
       "      <td>2.0</td>\n",
       "      <td>1.60</td>\n",
       "    </tr>\n",
       "    <tr>\n",
       "      <th>Dental injury</th>\n",
       "      <td>251</td>\n",
       "      <td>4.0</td>\n",
       "      <td>1.59</td>\n",
       "    </tr>\n",
       "  </tbody>\n",
       "</table>\n",
       "</div>"
      ],
      "text/plain": [
       "                                                    total_population  \\\n",
       "Poisoning                                                        724   \n",
       "Other/Not Stated                                                8120   \n",
       "Aspirated foreign object                                          66   \n",
       "Burns, radiation (includes all cell damage by u...                35   \n",
       "Burns, chemical (caustics, etc.)                                  86   \n",
       "Hematoma                                                         534   \n",
       "Burns, thermal (from flames or hot surface)                      512   \n",
       "Anoxia                                                           170   \n",
       "Amputation                                                       125   \n",
       "Dental injury                                                    251   \n",
       "\n",
       "                                                    total_not_seen  \\\n",
       "Poisoning                                                     24.0   \n",
       "Other/Not Stated                                             257.0   \n",
       "Aspirated foreign object                                       2.0   \n",
       "Burns, radiation (includes all cell damage by u...             1.0   \n",
       "Burns, chemical (caustics, etc.)                               2.0   \n",
       "Hematoma                                                      12.0   \n",
       "Burns, thermal (from flames or hot surface)                   10.0   \n",
       "Anoxia                                                         3.0   \n",
       "Amputation                                                     2.0   \n",
       "Dental injury                                                  4.0   \n",
       "\n",
       "                                                    not_seen_rate (%)  \n",
       "Poisoning                                                        3.31  \n",
       "Other/Not Stated                                                 3.17  \n",
       "Aspirated foreign object                                         3.03  \n",
       "Burns, radiation (includes all cell damage by u...               2.86  \n",
       "Burns, chemical (caustics, etc.)                                 2.33  \n",
       "Hematoma                                                         2.25  \n",
       "Burns, thermal (from flames or hot surface)                      1.95  \n",
       "Anoxia                                                           1.76  \n",
       "Amputation                                                       1.60  \n",
       "Dental injury                                                    1.59  "
      ]
     },
     "execution_count": 26,
     "metadata": {},
     "output_type": "execute_result"
    }
   ],
   "source": [
    "# cases left without being seen by diagnosis  \n",
    "diagnosis_not_seen = neiss_2014[(neiss_2014['disposition_name']==\\\n",
    "                                    'Left without being seen/Left against medical advice')]\n",
    "diagnosis_not_seen = diagnosis_not_seen.groupby('diagnosis_name')['diagnosis_name'].\\\n",
    "                            agg(['size']).rename(columns={'size': 'total_not_seen'})\n",
    "\n",
    "# merge total cases and cases left without being seen to calculate rate by diagnosis \n",
    "\n",
    "not_seen_data = pd.concat([diagnosis_total, diagnosis_not_seen], axis=1)\n",
    "not_seen_data['not_seen_rate (%)'] = round(not_seen_data['total_not_seen']/not_seen_data['total_population'] * 100,2)\n",
    "not_seen_data = not_seen_data.sort_values(by='not_seen_rate (%)', ascending=False)\n",
    "\n",
    "# view top diagnosis \n",
    "not_seen_data.head(10)"
   ]
  },
  {
   "cell_type": "markdown",
   "metadata": {},
   "source": [
    "#### <u>Result: </u> \n",
    "\n",
    "<p> We can infer from the above table that <b> Poisoning </b> most often concluded with individual leaving without being seen. Interestingly, there were also significant number of cases <b> without any diagnosis stated </b> but left without being seen. \n",
    "</p>\n",
    "<br>\n"
   ]
  },
  {
   "cell_type": "markdown",
   "metadata": {},
   "source": [
    "#### (C) Briefly discuss your findings and any caveats you'd mention when discussing this data\n"
   ]
  },
  {
   "cell_type": "code",
   "execution_count": 27,
   "metadata": {},
   "outputs": [
    {
     "name": "stdout",
     "output_type": "stream",
     "text": [
      " % of cases with diagnosis not stated or marked as other:  12.4\n"
     ]
    }
   ],
   "source": [
    "# cases with diagnosis of value other or not stated  \n",
    "\n",
    "diagnosis_not_stated = ((neiss_2014['diag'] == 71).sum() / neiss_unique_cases)* 100\n",
    "\n",
    "print(\" % of cases with diagnosis not stated or marked as other: \", round(diagnosis_not_stated,2))"
   ]
  },
  {
   "cell_type": "markdown",
   "metadata": {},
   "source": [
    "#### <u>Findings/Discussion: </u> <br>\n",
    "\n",
    "<li> Although Submersion had highest hospitalization rate, it is the diagnosis <b> Fracture </b> that had significant number of cases to consider as well as high hospitalization rate (18.6%) after submersion. </li>\n",
    "\n",
    "<li> Interestingly <b> Poisoning </b> had very high hospitalization rate (12.15%) as well ranked the highest amongst  the diagnosis where individual left without being seen \n",
    "\n",
    "<li> Diagnosis were not stated or recorded as other for significant number of cases, i.e., about <b>12.4%</b> cases. This can be identified as 71 from diagnosis code column. However there are some textual information available for those cases which can be tricky to analyze. \n",
    "\n",
    "<li> Age is not recorded with consistent unit, for example, individual below 2 years are recorded in terms of week and indeed is a coded value. This could potentially skew the data if the age field is not transformed; therefore it is highly recommended to convert the age in weeks to years automatically when the data is entered. \n",
    "\n",
    "<li> I would also be interested in exploring the underlying products causing the injuries provided more information available to map the product code to specific product. \n"
   ]
  },
  {
   "cell_type": "markdown",
   "metadata": {},
   "source": [
    "### Question 4\n",
    "\n",
    "#### Visualize any existing relationship between age and reported injuries\n",
    "\n",
    "<b> <u> Age Group: </u></b>\n",
    "\n",
    "<li> 0 to 2 - Infant\n",
    "<Li> 3 to 14 - Children\n",
    "<li> 15 to 24 - Youth\n",
    "<li> 25 to 64 - Adults\n",
    "<li> 65+ - Seniors\n",
    "\n"
   ]
  },
  {
   "cell_type": "code",
   "execution_count": 28,
   "metadata": {},
   "outputs": [
    {
     "data": {
      "image/png": "[encoded data removed]",
      "text/plain": [
       "<matplotlib.figure.Figure at 0x1155294a8>"
      ]
     },
     "metadata": {},
     "output_type": "display_data"
    }
   ],
   "source": [
    "# Provide meaningful group to age \n",
    "\n",
    "neiss_2014['age_group'] = pd.cut(neiss_2014['age_in_years'], [0, 2, 14, 24, 64,150]\\\n",
    "                                 ,labels=['Infant', 'Children', 'Youth', 'Adults', 'Seniors'])\n",
    "\n",
    "# reported cases by age group \n",
    "by_age_group =  neiss_2014.groupby('age_group')['age_group'].agg(['size']).rename(columns={'size': 'total_cases'})\n",
    "\n",
    "# adding column to show in terms of percentage of total \n",
    "by_age_group['percent_total'] = round((by_age_group['total_cases']/neiss_unique_cases)*100,2)\n",
    "\n",
    "\n",
    "# slightly increase size of font \n",
    "matplotlib.rc('xtick', labelsize=12) \n",
    "matplotlib.rc('ytick', labelsize=12)\n",
    "\n",
    "# define label and titles \n",
    "plt.title('Reported Injuries by Age Group')\n",
    "plt.xlabel('Age Group')\n",
    "plt.ylabel('Total Cases')\n",
    "\n",
    "by_age_group['total_cases'].plot.bar(figsize=(10,5)) \n",
    "plt.show()\n"
   ]
  },
  {
   "cell_type": "code",
   "execution_count": 29,
   "metadata": {},
   "outputs": [
    {
     "data": {
      "image/png": "[encoded data removed]",
      "text/plain": [
       "<matplotlib.figure.Figure at 0x118137128>"
      ]
     },
     "metadata": {},
     "output_type": "display_data"
    }
   ],
   "source": [
    "# define label and titles \n",
    "plt.title('Reported Injuries by Age Group as a % of Total Cases Reported ')\n",
    "plt.xlabel('Age Group')\n",
    "plt.ylabel('% of Total Cases')\n",
    "\n",
    "# reported injuries as a % of total cases reported \n",
    "by_age_group['percent_total'].plot.bar(figsize=(10,5), color = '#feb24c') \n",
    "plt.show()"
   ]
  },
  {
   "cell_type": "markdown",
   "metadata": {},
   "source": [
    "###  Visualizing Age Group and Diagnosis\n"
   ]
  },
  {
   "cell_type": "code",
   "execution_count": 30,
   "metadata": {},
   "outputs": [
    {
     "data": {
      "image/png": "[encoded data removed]",
      "text/plain": [
       "<matplotlib.figure.Figure at 0x11423f320>"
      ]
     },
     "metadata": {},
     "output_type": "display_data"
    }
   ],
   "source": [
    "# Prepare data to visualize by diagnosis and age group \n",
    "\n",
    "neiss_2014['cases'] = 1\n",
    "\n",
    "# group by age group and diagnosis and get total count of cases for each combination \n",
    "\n",
    "by_age_group_diagnosis = neiss_2014.groupby(['age_group', \"diagnosis_name\"], as_index=False).cases.sum()\n",
    "\n",
    "# sort by total cases \n",
    "by_age_group_diagnosis = by_age_group_diagnosis.sort_values(['age_group','cases'],ascending=False)\\\n",
    "                            .groupby('age_group').head(10)\n",
    "\n",
    "# pivot the data to plot stacked bar chart \n",
    "age_group_pivoted = by_age_group_diagnosis.pivot(index='age_group', columns='diagnosis_name', values='cases')\n",
    "\n",
    "\n",
    "# tableau 20 color scale \n",
    "tableau20 = [(31, 119, 180), (174, 199, 232), (255, 127, 14), (255, 187, 120),  \n",
    "             (44, 160, 44), (152, 223, 138), (214, 39, 40), (255, 152, 150),  \n",
    "             (148, 103, 189), (197, 176, 213), (140, 86, 75), (196, 156, 148),  \n",
    "             (227, 119, 194), (247, 182, 210), (127, 127, 127), (199, 199, 199),  \n",
    "             (188, 189, 34), (219, 219, 141), (23, 190, 207), (158, 218, 229)]\n",
    "\n",
    "# Rescale to values between 0 and 1 \n",
    "for i in range(len(tableau20)):  \n",
    "    r, g, b = tableau20[i]  \n",
    "    tableau20[i] = (r / 255., g / 255., b / 255.)\n",
    "\n",
    "\n",
    "# horizontal stacked bar chart    \n",
    "age_group_pivoted.plot.barh(stacked = True, color = tableau20, figsize=(15,10))\n",
    "\n",
    "# slightly increase size of font \n",
    "matplotlib.rc('xtick', labelsize=15) \n",
    "matplotlib.rc('ytick', labelsize=15) \n",
    "\n",
    "# set axis label and title \n",
    "plt.title('Diagnosis for Reported Injuries by Age Group ')\n",
    "plt.ylabel('Age Group')\n",
    "plt.xlabel('Total Cases')\n",
    "\n",
    "# make sure legend is on side of the bar not over them \n",
    "plt.legend(loc='center left', bbox_to_anchor=(1, 0.5))\n",
    "\n",
    "# show the visualization \n",
    "plt.show()"
   ]
  },
  {
   "cell_type": "markdown",
   "metadata": {},
   "source": [
    "###  Visualizing Age Group and Affected Body Parts"
   ]
  },
  {
   "cell_type": "code",
   "execution_count": 31,
   "metadata": {},
   "outputs": [
    {
     "data": {
      "image/png": "[encoded data removed]",
      "text/plain": [
       "<matplotlib.figure.Figure at 0x114234668>"
      ]
     },
     "metadata": {},
     "output_type": "display_data"
    }
   ],
   "source": [
    "# group by age group and diagnosis and get total count of cases for each combination \n",
    "\n",
    "by_age_group_body_parts = neiss_2014.groupby(['age_group', \"body_part_name\"], as_index=False).cases.sum()\n",
    "\n",
    "# sort by total cases \n",
    "by_age_group_body_parts = by_age_group_body_parts.sort_values(['age_group','cases'],ascending=False).\\\n",
    "                         groupby('age_group').head(10)\n",
    "\n",
    "# pivot the data to plot stacked bar chart \n",
    "age_bp_pivoted = by_age_group_body_parts.pivot(index='age_group', columns='body_part_name', values='cases')\n",
    "\n",
    "\n",
    "# horizontal stacked bar chart    \n",
    "age_bp_pivoted.plot.barh(stacked = True, color = tableau20, figsize=(15,10))\n",
    "\n",
    "# slightly increase size of font \n",
    "matplotlib.rc('xtick', labelsize=15) \n",
    "matplotlib.rc('ytick', labelsize=15) \n",
    "\n",
    "# set axis label and title \n",
    "plt.title('Body Parts Affected for Reported Injuries by Age Group ')\n",
    "plt.ylabel('Age Group')\n",
    "plt.xlabel('Total Cases')\n",
    "\n",
    "# make sure legend is on side of the bar not over them \n",
    "plt.legend(loc='center left', bbox_to_anchor=(1, 0.5))\n",
    "\n",
    "# show the visualization \n",
    "plt.show()"
   ]
  },
  {
   "cell_type": "markdown",
   "metadata": {},
   "source": [
    "<p> From the above visualization we can infer that children and infants are most likey to get hurt in <b> face </b>  compared to adults and seniors </p>"
   ]
  },
  {
   "cell_type": "markdown",
   "metadata": {},
   "source": [
    "\n",
    "### Question 5+\n",
    "#### Investigate the data however you like and discuss any interesting insights you can find in the data\n",
    "\n",
    "I used Tableau to visually explore patterns and derive some insights. Please click the link to view relevant dashboard and story boards. \n",
    "\n",
    "https://public.tableau.com/profile/jansi8320#!/vizhome/NEISSVisualExploration/DiagnosisByRace \n",
    "\n"
   ]
  },
  {
   "cell_type": "code",
   "execution_count": null,
   "metadata": {
    "collapsed": true
   },
   "outputs": [],
   "source": []
  }
 ],
 "metadata": {
  "kernelspec": {
   "display_name": "Python 3",
   "language": "python",
   "name": "python3"
  },
  "language_info": {
   "codemirror_mode": {
    "name": "ipython",
    "version": 3
   },
   "file_extension": ".py",
   "mimetype": "text/x-python",
   "name": "python",
   "nbconvert_exporter": "python",
   "pygments_lexer": "ipython3",
   "version": "3.6.3"
  }
 },
 "nbformat": 4,
 "nbformat_minor": 2
}
